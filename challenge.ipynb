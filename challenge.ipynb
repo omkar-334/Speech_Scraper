{
  "nbformat": 4,
  "nbformat_minor": 0,
  "metadata": {
    "colab": {
      "provenance": []
    },
    "kernelspec": {
      "name": "python3",
      "display_name": "Python 3"
    },
    "language_info": {
      "name": "python"
    }
  },
  "cells": [
    {
      "cell_type": "markdown",
      "source": [
        "🚀 **Join Our Speech Team at Sarvam AI!** 🚀\n",
        "\n",
        "\n",
        "\n",
        "We at [Sarvam AI](https://www.sarvam.ai/) are on a mission to revolutionize the GenAI landscape in India, and we're looking for talented **Data Engineers** and **ML Engineers** to help us achieve this. Become part of a team dedicated to building state-of-the-art ML systems for Speech Recognition and Text-to-Speech applications in Indian languages.\n",
        "\n",
        "\n",
        "\n",
        "**Why Join Our Speech Team?**\n",
        "\n",
        "- 🧠 **Develop Cutting-Edge ML Models:** Work on the forefront of machine learning to develop systems that understand and speak multiple Indian languages.\n",
        "\n",
        "- 📊 **Handle Large-Scale Data Sets:** Dive into dataset curation, managing and processing over 1M hours of audio data to train our models.\n",
        "\n",
        "- 💻 **Advanced GPU Infrastructure:** Get hands-on experience with our massive A100 and H100 GPU cluster, pushing the boundaries of what AI can achieve.\n",
        "\n",
        "- 🛠️ **Solve Real-World Problems:** Tackle hard applied research and engineering challenges with a direct impact on our products.\n",
        "\n",
        "- 🌐 **Work with Top Talent:** Collaborate with some of India's best ML Engineers and Product Developers in an environment that values innovation and creativity.\n",
        "\n",
        "\n",
        "\n",
        "**We're Excited to Offer the Following Opportunities (Full Time only):**\n",
        "\n",
        "- 🌱 **Summer Internship (2 months on-site/remote, earning up to 50k per month):** Ideal for freshers or students with a foundational grasp of ML and programming.\n",
        "\n",
        "  - **Data Engineer:** Engage in web scraping, manage distributed data processing, and develop robust data pipelines.\n",
        "\n",
        "  - **ML Engineer:** Train, monitor and eval state-of-the-art speech models.\n",
        "\n",
        "  \n",
        "\n",
        "- 🔥 **AI Residency (6 months on-site, earning up to 1L per month):** Perfect for those with professional experience or significant expertise. Contribute to our groundbreaking projects and refine your skills.\n",
        "\n",
        "  - **Data Engineer:** Oversee large-scale data mining and sophisticated engineering tasks for massive data flows.\n",
        "\n",
        "  - **ML Engineer:** Train advanced speech models on powerful GPU clusters using frameworks like PyTorch and JAX, and tools like NeMo and HuggingFace Transformers.\n",
        "\n",
        "\n",
        "\n",
        "**About Sarvam AI:**\n",
        "\n",
        "Sarvam AI is a well-funded GenAI startup focused on creating full-stack GenAI systems and applications tailored for India. Based out of Bangalore and Chennai, Sarvam AI is a place for those who are passionate about driving significant advancements through Generative AI, have a love for Indian languages, and are eager to make a substantial impact.\n",
        "\n",
        "\n",
        "\n",
        "**Join Us!**\n",
        "\n",
        "Complete our [Hiring Challenge in the Colab Notebook](https://colab.research.google.com/drive/1EiiLTf5zB8Jm2PxdU3H20rWUr40FrsGM?usp=sharing) to showcase your skills! After completing the challenge, please apply through this [Google Form](https://forms.gle/yP4Vd9QhiETTqEtW8). We’re eager to see your innovative solutions and potentially welcome you aboard to help shape the future of AI in India.\n",
        "\n",
        "\n",
        "\n",
        "*Note: Admissions are on a rolling basis until all positions are filled. Apply early to secure your spot in our team!*\n",
        "\n",
        "---\n",
        "\n"
      ],
      "metadata": {
        "id": "hzyClfgaJEbW"
      }
    },
    {
      "cell_type": "markdown",
      "source": [
        "\n",
        "\n",
        "---\n",
        "\n"
      ],
      "metadata": {
        "id": "97jDW6dhYI0_"
      }
    },
    {
      "cell_type": "markdown",
      "source": [
        "# 🌟 Welcome to the Speech Team Hiring Challenge! 🚀\n",
        "\n",
        "Hey there! We're thrilled to kick off this exciting challenge with two awesome tasks tailored to test your prowess in speech and text data analysis. These tasks are crucial for our hiring process and mirror the real-world scenarios our team loves to tackle. 🎯\n",
        "\n",
        "**Task 1: Semantic Chunking of a YouTube Video** 📹\n",
        "- Dive into extracting meaningful audio-text pairs from a specific video. Show us your skill in achieving precise segmentation and alignment!\n",
        "\n",
        "**Task 2: Exploratory Data Analysis of New Testament Audio and Text** 📖\n",
        "- Get your hands dirty with a deep dive into the audio and text from the New Testament in your mother tongue. We're looking for sharp insights that could revolutionize text-to-speech and speech-to-text technologies.\n",
        "\n",
        "Please tackle both tasks with your full creativity and analytical skills as they are equally important in our evaluation. 🤓 🏋️‍♂️ Your innovative approaches, depth of analysis, and tech-savviness will be key to understanding how well you fit into our dynamic team.\n",
        "\n",
        "**Submission Instructions:**\n",
        "- Make sure to create a copy of your Google Colab notebook for each task.\n",
        "- Set the notebook to **shareable** and grant viewing access to **abhigyan@sarvam.ai**.\n",
        "- Once you've perfected your work, please paste the link to your notebook in the [Google Form provided](https://forms.gle/qxy2LF4Jtph7xhYHA). This step is crucial for us to review your submissions properly.\n",
        "\n",
        "Good luck, and let's see what amazing things you can uncover! 🌈👀\n",
        "\n",
        "\n",
        "\n",
        "---\n",
        "\n"
      ],
      "metadata": {
        "id": "upoYo6G_-5kf"
      }
    },
    {
      "cell_type": "markdown",
      "source": [
        "## Task 1: Semantic Chunking of a Youtube Video\n",
        "\n",
        "**Problem Statement:**\n",
        "\n",
        "The objective is to extract high-quality, meaningful (semantic) segments from the specified YouTube video: [Watch Video](https://www.youtube.com/watch?v=Sby1uJ_NFIY).\n",
        "\n",
        "Suggested workflow:\n",
        "1. **Download Video and Extract Audio:** Download the video and separate the audio component.\n",
        "2. **Transcription of Audio:** Utilize an open-source Speech-to-Text model to transcribe the audio. *Provide an explanation of the chosen model and any techniques used to enhance the quality of the transcription.*\n",
        "3. **Time-Align Transcript with Audio:** *Describe the methodology and steps for aligning the transcript with the audio.*\n",
        "4. **Semantic Chunking of Data:** Slice the data into audio-text pairs, using both semantic information from the text and voice activity information from the audio, with each audio-chunk being less than 15s in length. *Explain the logic used for semantic chunking and discuss the strengths and weaknesses of your approach.*\n",
        "\n",
        "**Judgement Criteria:**\n",
        "\n",
        "1. **Precision-Oriented Evaluation:** The evaluation focuses on precision rather than recall. Higher scores are achieved by reporting fewer but more accurate segments rather than a larger number of segments with inaccuracies. Segment accuracy is determined by:\n",
        "   - **Transcription Quality:** Accuracy of the text transcription for each audio chunk.\n",
        "   - **Segment Quality:** Semantic richness of the text segments.\n",
        "   - **Timestamp Accuracy:** Precision of the start and end times for each segment. Avoid audio cuts at the start or end of a segment.\n",
        "   \n",
        "2. **Detailed Explanations:** Provide reasoning behind each step in the process.\n",
        "3. **Generalization:** Discuss the general applicability of your approach, potential failure modes on different types of videos, and adaptation strategies for other languages.\n",
        "4. **[Bonus-1]** **Gradio-app Interface:** Wrap your code in a gradio-app which takes in youtube link as input and displays the output in a text-box.\n",
        "5. **[Bonus-2]** **Utilizing Ground-Truth Transcripts:** Propose a method to improve the quality of your transcript using a ground-truth transcript provided as a single text string. Explain your hypothesis for this approach. *Note that code-snippet isn't required for this question.*\n",
        "\n",
        "  As an example - for the audio extracted from [yt-link](https://www.youtube.com/watch?v=ysLiABvVos8), how can we leverage transcript scraped from [here](https://www.newsonair.gov.in/bulletins-detail/english-morning-news-7/), to improve the overall transcription quality of segments?\n",
        "\n",
        "**Submission Format:**\n",
        "\n",
        "Your submission should be a well-documented Jupyter notebook capable of reproducing your results. The notebook should automatically install all required dependencies and output the results in the specified format.\n",
        "\n",
        "- **Output Format:** Provide the results as a list of dictionaries, each representing a semantic chunk. Each dictionary should include:\n",
        "  - `chunk_id`: A unique identifier for the chunk (integer).\n",
        "  - `chunk_length`: The duration of the chunk in seconds (float).\n",
        "  - `text`: The transcribed text of the chunk (string).\n",
        "  - `start_time`: The start time of the chunk within the video (float).\n",
        "  - `end_time`: The end time of the chunk within the video (float).\n",
        "\n",
        "```python\n",
        "sample_output_list = [\n",
        "    {\n",
        "        \"chunk_id\": 1,\n",
        "        \"chunk_length\": 14.5,\n",
        "        \"text\": \"Here is an example of a semantic chunk from the video.\",\n",
        "        \"start_time\": 0.0,\n",
        "        \"end_time\": 14.5,\n",
        "    },\n",
        "    # Additional chunks follow...\n",
        "]\n",
        "```\n",
        "\n",
        "Ensure that your code is clear, well-commented, and easy to follow, with explanations for each major step and decision in the process. The notebook should be able to install all the dependencies automatically and generate the reported output when run.\n",
        "\n",
        "\n",
        "---\n",
        "\n"
      ],
      "metadata": {
        "id": "mzqLZrA2UEmL"
      }
    },
    {
      "cell_type": "code",
      "execution_count": null,
      "metadata": {
        "id": "W00nRD-WTTXR"
      },
      "outputs": [],
      "source": [
        "# Your code for Task 1 goes here!"
      ]
    },
    {
      "cell_type": "markdown",
      "source": [
        "## Task 2: Exploratory Data Analysis of New Testament Audio and Text\n",
        "\n",
        "**Problem Statement:**\n",
        "\n",
        "The objective of this task is to conduct a comprehensive exploratory data analysis (EDA) on the audio and text data of the 260 chapters of the New Testament in your mother tongue (excluding English). The data should be obtained through web scraping from [Faith Comes By Hearing](https://www.faithcomesbyhearing.com/).\n",
        "\n",
        "The workflow for this task should include:\n",
        "1. **Web Scraping:** Systematically download the audio files and their corresponding textual content for each of the 260 chapters of the New Testament from the specified website.\n",
        "2. **Data Preparation:** Organize the data by chapters, ensuring each audio file is matched with its corresponding text.\n",
        "3. **Exploratory Data Analysis:** Analyze the data to uncover patterns, anomalies, or insights that could benefit applications such as Text to Speech (TTS) and Speech to Text (STT) technologies. Your analysis should explore various facets of the data, including audio quality, text clarity, and alignment between text and spoken content.\n",
        "\n",
        "**Judgement Criteria:**\n",
        "\n",
        "Your submission will be evaluated based on:\n",
        "- **Efficiency and Reliability of Web Scraping Techniques:** The methods and tools used for downloading the chapters efficiently and reliably.\n",
        "- **Data Analysis Methods:** The techniques and approaches used for analyzing the audio and text data.\n",
        "- **Quality of Data Analysis:** How effectively the analysis addresses potential applications for the Speech team, including TTS and STT technologies.\n",
        "- **Creativity in Analysis:** Innovative approaches in data handling and analysis, and the use of relevant metrics to assess data quality and applicability.\n",
        "\n",
        "**Submission Requirements:**\n",
        "\n",
        "Your submission should include the following components:\n",
        "- **Report on Key Performance Indicators (KPIs):** A concise report detailing the key findings from your analysis, focusing on aspects that are critical for improving TTS and STT applications.\n",
        "- **Methodological Explanation:** A thorough explanation of the methods used for both web scraping and the exploratory data analysis. This should include challenges faced and how they were overcome.\n",
        "- **Supporting Materials:** Include code snippets and visualizations that highlight significant insights from the data. These should be well-documented and easy to understand, demonstrating the logic behind your analytical decisions.\n",
        "\n",
        "The report should be structured to clearly present the methodology, findings, and implications of your analysis. It should be technical yet accessible, aimed at stakeholders who may have varying levels of familiarity with data analysis techniques.\n",
        "\n",
        "\n",
        "---\n",
        "\n"
      ],
      "metadata": {
        "id": "xBt8cbX_WpQf"
      }
    },
    {
      "cell_type": "code",
      "source": [
        "# Your code for Task 2 goes here!"
      ],
      "metadata": {
        "id": "bq4Q0tszWrAy"
      },
      "execution_count": null,
      "outputs": []
    }
  ]
}